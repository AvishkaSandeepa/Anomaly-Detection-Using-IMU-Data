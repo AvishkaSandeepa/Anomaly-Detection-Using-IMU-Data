{
 "cells": [
  {
   "cell_type": "code",
   "execution_count": 1,
   "id": "linear-abraham",
   "metadata": {},
   "outputs": [],
   "source": [
    "# let's import important libraries\n",
    "import numpy as np\n",
    "from matplotlib import pyplot as plt\n",
    "import math\n",
    "\n",
    "import tensorflow as tf\n",
    "from keras.models import Sequential\n",
    "from keras.layers import LSTM, Input, Dropout, Flatten\n",
    "from keras.layers import Dense\n",
    "from keras.layers import RepeatVector\n",
    "from keras.layers import TimeDistributed\n",
    "from keras.models import Model\n",
    "from keras.layers import ConvLSTM2D\n",
    "\n",
    "import pandas as pd\n",
    "\n",
    "from sklearn.preprocessing import MinMaxScaler, StandardScaler\n",
    "from sklearn.metrics import mean_squared_error\n",
    "\n",
    "import seaborn as sns"
   ]
  },
  {
   "cell_type": "markdown",
   "id": "tracked-comfort",
   "metadata": {},
   "source": [
    "## Let's train the model for detect anomalies using orientaion x"
   ]
  },
  {
   "cell_type": "code",
   "execution_count": 2,
   "id": "manufactured-tradition",
   "metadata": {},
   "outputs": [
    {
     "data": {
      "text/html": [
       "<div>\n",
       "<style scoped>\n",
       "    .dataframe tbody tr th:only-of-type {\n",
       "        vertical-align: middle;\n",
       "    }\n",
       "\n",
       "    .dataframe tbody tr th {\n",
       "        vertical-align: top;\n",
       "    }\n",
       "\n",
       "    .dataframe thead th {\n",
       "        text-align: right;\n",
       "    }\n",
       "</style>\n",
       "<table border=\"1\" class=\"dataframe\">\n",
       "  <thead>\n",
       "    <tr style=\"text-align: right;\">\n",
       "      <th></th>\n",
       "      <th>orientation.x</th>\n",
       "    </tr>\n",
       "  </thead>\n",
       "  <tbody>\n",
       "    <tr>\n",
       "      <th>0</th>\n",
       "      <td>-0.036490</td>\n",
       "    </tr>\n",
       "    <tr>\n",
       "      <th>1</th>\n",
       "      <td>-0.036553</td>\n",
       "    </tr>\n",
       "    <tr>\n",
       "      <th>2</th>\n",
       "      <td>-0.036523</td>\n",
       "    </tr>\n",
       "    <tr>\n",
       "      <th>3</th>\n",
       "      <td>-0.036695</td>\n",
       "    </tr>\n",
       "    <tr>\n",
       "      <th>4</th>\n",
       "      <td>-0.036460</td>\n",
       "    </tr>\n",
       "    <tr>\n",
       "      <th>...</th>\n",
       "      <td>...</td>\n",
       "    </tr>\n",
       "    <tr>\n",
       "      <th>754</th>\n",
       "      <td>-0.026291</td>\n",
       "    </tr>\n",
       "    <tr>\n",
       "      <th>755</th>\n",
       "      <td>-0.026335</td>\n",
       "    </tr>\n",
       "    <tr>\n",
       "      <th>756</th>\n",
       "      <td>-0.026449</td>\n",
       "    </tr>\n",
       "    <tr>\n",
       "      <th>757</th>\n",
       "      <td>-0.026561</td>\n",
       "    </tr>\n",
       "    <tr>\n",
       "      <th>758</th>\n",
       "      <td>-0.026644</td>\n",
       "    </tr>\n",
       "  </tbody>\n",
       "</table>\n",
       "<p>759 rows × 1 columns</p>\n",
       "</div>"
      ],
      "text/plain": [
       "     orientation.x\n",
       "0        -0.036490\n",
       "1        -0.036553\n",
       "2        -0.036523\n",
       "3        -0.036695\n",
       "4        -0.036460\n",
       "..             ...\n",
       "754      -0.026291\n",
       "755      -0.026335\n",
       "756      -0.026449\n",
       "757      -0.026561\n",
       "758      -0.026644\n",
       "\n",
       "[759 rows x 1 columns]"
      ]
     },
     "execution_count": 2,
     "metadata": {},
     "output_type": "execute_result"
    }
   ],
   "source": [
    "# truncate the full data to check only orientation x\n",
    "\n",
    "dataframe = pd.read_csv('../extract-data/ICAB1/02_icab1_reverse_fail_overtaking0_2021-03-26-14-40-28_0/icab1-mavros-imu-data.csv', usecols=[5])\n",
    "#dataframe = pd.read_csv('../extract-data/ICAB1/02_icab1_reverse_fail_overtaking0_2021-03-26-14-40-28_0/icab1-mavros-imu-data.csv')\n",
    "#df = dataframe[['Time', 'orientation.x']]\n",
    "\n",
    "#convert time step to the date and time format\n",
    "#df['Time'] = pd.to_datetime(df['Time'], unit='s')\n",
    "#df\n",
    "dataframe"
   ]
  },
  {
   "cell_type": "code",
   "execution_count": 3,
   "id": "exterior-insertion",
   "metadata": {},
   "outputs": [
    {
     "data": {
      "text/plain": [
       "[<matplotlib.lines.Line2D at 0x16e3c219a60>]"
      ]
     },
     "execution_count": 3,
     "metadata": {},
     "output_type": "execute_result"
    },
    {
     "data": {
      "image/png": "[encoded data removed]",
      "text/plain": [
       "<Figure size 432x288 with 1 Axes>"
      ]
     },
     "metadata": {
      "needs_background": "light"
     },
     "output_type": "display_data"
    }
   ],
   "source": [
    "# plot the variation vs time i\n",
    "plt.plot(dataframe)\n",
    "\n",
    "#sns.lineplot(x=dataframe['Time'], y=dataframe['orientation.x'])"
   ]
  },
  {
   "cell_type": "code",
   "execution_count": 4,
   "id": "threaded-witch",
   "metadata": {},
   "outputs": [],
   "source": [
    "# print the start and ending dates for collecting datas\n",
    "#print(\"Start date is: \", df['Time'].min())\n",
    "#print(\"End date is: \", df['Time'].max())"
   ]
  },
  {
   "cell_type": "code",
   "execution_count": 5,
   "id": "transparent-garage",
   "metadata": {},
   "outputs": [
    {
     "data": {
      "text/plain": [
       "(759, 1)"
      ]
     },
     "execution_count": 5,
     "metadata": {},
     "output_type": "execute_result"
    }
   ],
   "source": [
    "# create the data set to numpy array\n",
    "dataset_array = dataframe.values\n",
    "dataset_array = dataset_array.astype('float32') # convert values to float\n",
    "dataset_array.shape # this is a coloumn matrix\n",
    "#print(dataset_array)\n"
   ]
  },
  {
   "cell_type": "markdown",
   "id": "stylish-neutral",
   "metadata": {},
   "source": [
    "#### In LSTM it is widely use tanh and sigmoid as activation functions..........\n",
    "\n",
    "#### So need to scale our data set between zero and one (since activation functions varies between these two values)"
   ]
  },
  {
   "cell_type": "code",
   "execution_count": 6,
   "id": "swiss-trainer",
   "metadata": {},
   "outputs": [
    {
     "name": "stdout",
     "output_type": "stream",
     "text": [
      "(759, 1)\n",
      "759\n"
     ]
    }
   ],
   "source": [
    "# check the min value of data set and it is appointed as zero.... max value is appointed as one\n",
    "scale = MinMaxScaler(feature_range=(0, 1)) # define a scaler of range (0,1)\n",
    "transformed_dataset = scale.fit_transform(dataset_array)\n",
    "print(transformed_dataset.shape)\n",
    "print(len(transformed_dataset))\n",
    "#print(transformed_dataset)"
   ]
  },
  {
   "cell_type": "code",
   "execution_count": 7,
   "id": "proper-income",
   "metadata": {},
   "outputs": [
    {
     "name": "stdout",
     "output_type": "stream",
     "text": [
      "(500, 1)\n",
      "(259, 1)\n"
     ]
    }
   ],
   "source": [
    "#Divide the whole data set to training & testing sets .. \n",
    "train_size = int(len(transformed_dataset) * 0.66) # take 2/3 of whole data for train\n",
    "test_size = len(transformed_dataset) - train_size\n",
    "#print(\"train_size : \", train_size)\n",
    "#print(\"test_size : \", test_size)\n",
    "\n",
    "train, test = transformed_dataset[0:train_size,:], transformed_dataset[train_size:len(transformed_dataset),:]\n",
    "#print(\"train : \", train)\n",
    "#print(\"test : \", test)\n",
    "print(train.shape)\n",
    "print(test.shape)\n"
   ]
  },
  {
   "cell_type": "markdown",
   "id": "static-deposit",
   "metadata": {},
   "source": [
    "#### Normaly we have to predict next value using previous values.. currently our data is in one column... I choose previous 3 data to predict next \n",
    "#### Have to reconstruct the dataset with 3 columns for input data (x)........... dataset with 1 column for output data(y)"
   ]
  },
  {
   "cell_type": "code",
   "execution_count": 8,
   "id": "muslim-tower",
   "metadata": {},
   "outputs": [
    {
     "name": "stdout",
     "output_type": "stream",
     "text": [
      "Shape of training set Input :  (496, 3)\n",
      "Shape of training set Output:  (496,)\n",
      " \n",
      "Shape of testing set Input :  (255, 3)\n",
      "Shape of testing set Output:  (255,)\n"
     ]
    }
   ],
   "source": [
    "def to_sequences(dataset, seq_size=1):\n",
    "    x = []\n",
    "    y = []\n",
    "\n",
    "    for i in range(len(dataset)-seq_size-1):\n",
    "        #print(i)\n",
    "        window = dataset[i:(i+seq_size), 0]\n",
    "        x.append(window)\n",
    "        y.append(dataset[i+seq_size, 0])\n",
    "        \n",
    "    return np.array(x),np.array(y)\n",
    "    \n",
    "\n",
    "seq_size = 3  # Number of time steps to look back \n",
    "\n",
    "\n",
    "trainX, trainY = to_sequences(train, seq_size)\n",
    "testX, testY = to_sequences(test, seq_size)\n",
    "# you can see one row consist of consecutive 3 values of data and 5th value is data is take as an output for 1st row\n",
    "#print(\"Train X = \", trainX) \n",
    "#print(\" \")\n",
    "#print(\"Train Y = \", trainY)\n",
    "#print(\" \")\n",
    "print(\"Shape of training set Input : \", trainX.shape)\n",
    "print(\"Shape of training set Output: \", trainY.shape)\n",
    "print(\" \")\n",
    "print(\"Shape of testing set Input : \", testX.shape)\n",
    "print(\"Shape of testing set Output: \", testY.shape)\n"
   ]
  },
  {
   "cell_type": "markdown",
   "id": "multiple-resident",
   "metadata": {},
   "source": [
    "#### The input to every LSTM layer must be three-dimensional.\n",
    "\n",
    "#### The three dimensions of this input are:\n",
    "\n",
    "1. __Samples :__ One sequence is one sample. A batch is comprised of one or more samples.\n",
    "2. __Time Steps:__ One time step is one point of observation in the sample.\n",
    "3. __Features:__ One feature is one observation at a time step."
   ]
  },
  {
   "cell_type": "code",
   "execution_count": 9,
   "id": "ceramic-monitoring",
   "metadata": {},
   "outputs": [
    {
     "name": "stdout",
     "output_type": "stream",
     "text": [
      "Single LSTM with hidden Dense...\n",
      "Model: \"sequential\"\n",
      "_________________________________________________________________\n",
      "Layer (type)                 Output Shape              Param #   \n",
      "=================================================================\n",
      "lstm (LSTM)                  (None, None, 50)          10800     \n",
      "_________________________________________________________________\n",
      "lstm_1 (LSTM)                (None, None, 50)          20200     \n",
      "_________________________________________________________________\n",
      "lstm_2 (LSTM)                (None, 50)                20200     \n",
      "_________________________________________________________________\n",
      "dense (Dense)                (None, 32)                1632      \n",
      "=================================================================\n",
      "Total params: 52,832\n",
      "Trainable params: 52,832\n",
      "Non-trainable params: 0\n",
      "_________________________________________________________________\n",
      "Train...\n"
     ]
    }
   ],
   "source": [
    "# Reshape input to be [samples, time steps, features]\n",
    "\n",
    "\n",
    "reshaped_trainX = np.reshape(trainX, (trainX.shape[0], 1, trainX.shape[1]))\n",
    "reshaped_testX = np.reshape(testX, (testX.shape[0], 1, testX.shape[1]))\n",
    "\n",
    "print('Single LSTM with hidden Dense...')\n",
    "model = Sequential()\n",
    "# number of LSTM cells that used = 64\n",
    "model.add(LSTM(50, activation='relu', return_sequences=True, input_shape=(None, seq_size)))\n",
    "model.add(LSTM(50, activation='relu', return_sequences=True, input_shape=(None, seq_size)))\n",
    "#model.add(LSTM(64, input_shape=(None, seq_size)))\n",
    "model.add(LSTM(50, activation='relu'))\n",
    "#model.add(Dense(32))\n",
    "model.add(Dense(1))\n",
    "model.compile(loss='mean_squared_error', optimizer='adam')\n",
    "#model.compile(optimizer='adam',loss='mean_squared_error',metrics=[\"accuracy\"])\n",
    "\n",
    "model.summary()\n",
    "\n",
    "print('Train...')"
   ]
  },
  {
   "cell_type": "code",
   "execution_count": 10,
   "id": "alone-victorian",
   "metadata": {},
   "outputs": [
    {
     "name": "stdout",
     "output_type": "stream",
     "text": [
      "Epoch 1/100\n",
      "10/10 [==============================] - 5s 157ms/step - loss: 0.2104 - val_loss: 0.5050\n",
      "Epoch 2/100\n",
      "10/10 [==============================] - 0s 8ms/step - loss: 0.1866 - val_loss: 0.4851\n",
      "Epoch 3/100\n",
      "10/10 [==============================] - 0s 8ms/step - loss: 0.1859 - val_loss: 0.4595\n",
      "Epoch 4/100\n",
      "10/10 [==============================] - 0s 6ms/step - loss: 0.1647 - val_loss: 0.4227\n",
      "Epoch 5/100\n",
      "10/10 [==============================] - 0s 8ms/step - loss: 0.1455 - val_loss: 0.3634\n",
      "Epoch 6/100\n",
      "10/10 [==============================] - 0s 7ms/step - loss: 0.1126 - val_loss: 0.2613\n",
      "Epoch 7/100\n",
      "10/10 [==============================] - 0s 7ms/step - loss: 0.0716 - val_loss: 0.1016\n",
      "Epoch 8/100\n",
      "10/10 [==============================] - 0s 7ms/step - loss: 0.0246 - val_loss: 0.0177\n",
      "Epoch 9/100\n",
      "10/10 [==============================] - 0s 8ms/step - loss: 0.0153 - val_loss: 0.0077\n",
      "Epoch 10/100\n",
      "10/10 [==============================] - 0s 8ms/step - loss: 0.0080 - val_loss: 0.0145\n",
      "Epoch 11/100\n",
      "10/10 [==============================] - 0s 6ms/step - loss: 0.0085 - val_loss: 0.0038\n",
      "Epoch 12/100\n",
      "10/10 [==============================] - 0s 8ms/step - loss: 0.0066 - val_loss: 0.0033\n",
      "Epoch 13/100\n",
      "10/10 [==============================] - 0s 7ms/step - loss: 0.0056 - val_loss: 0.0041\n",
      "Epoch 14/100\n",
      "10/10 [==============================] - 0s 7ms/step - loss: 0.0061 - val_loss: 0.0037\n",
      "Epoch 15/100\n",
      "10/10 [==============================] - 0s 7ms/step - loss: 0.0057 - val_loss: 0.0045\n",
      "Epoch 16/100\n",
      "10/10 [==============================] - 0s 7ms/step - loss: 0.0060 - val_loss: 0.0048\n",
      "Epoch 17/100\n",
      "10/10 [==============================] - 0s 9ms/step - loss: 0.0052 - val_loss: 0.0065\n",
      "Epoch 18/100\n",
      "10/10 [==============================] - 0s 7ms/step - loss: 0.0044 - val_loss: 0.0068\n",
      "Epoch 19/100\n",
      "10/10 [==============================] - 0s 7ms/step - loss: 0.0045 - val_loss: 0.0083\n",
      "Epoch 20/100\n",
      "10/10 [==============================] - 0s 8ms/step - loss: 0.0045 - val_loss: 0.0101\n",
      "Epoch 21/100\n",
      "10/10 [==============================] - 0s 7ms/step - loss: 0.0040 - val_loss: 0.0097\n",
      "Epoch 22/100\n",
      "10/10 [==============================] - 0s 8ms/step - loss: 0.0045 - val_loss: 0.0117\n",
      "Epoch 23/100\n",
      "10/10 [==============================] - 0s 8ms/step - loss: 0.0043 - val_loss: 0.0121\n",
      "Epoch 24/100\n",
      "10/10 [==============================] - 0s 9ms/step - loss: 0.0045 - val_loss: 0.0122\n",
      "Epoch 25/100\n",
      "10/10 [==============================] - 0s 8ms/step - loss: 0.0039 - val_loss: 0.0136\n",
      "Epoch 26/100\n",
      "10/10 [==============================] - 0s 7ms/step - loss: 0.0044 - val_loss: 0.0140\n",
      "Epoch 27/100\n",
      "10/10 [==============================] - 0s 6ms/step - loss: 0.0038 - val_loss: 0.0143\n",
      "Epoch 28/100\n",
      "10/10 [==============================] - 0s 10ms/step - loss: 0.0037 - val_loss: 0.0133\n",
      "Epoch 29/100\n",
      "10/10 [==============================] - 0s 9ms/step - loss: 0.0033 - val_loss: 0.0143\n",
      "Epoch 30/100\n",
      "10/10 [==============================] - 0s 9ms/step - loss: 0.0035 - val_loss: 0.0134\n",
      "Epoch 31/100\n",
      "10/10 [==============================] - 0s 8ms/step - loss: 0.0030 - val_loss: 0.0121\n",
      "Epoch 32/100\n",
      "10/10 [==============================] - 0s 7ms/step - loss: 0.0031 - val_loss: 0.0125\n",
      "Epoch 33/100\n",
      "10/10 [==============================] - 0s 6ms/step - loss: 0.0030 - val_loss: 0.0111\n",
      "Epoch 34/100\n",
      "10/10 [==============================] - 0s 8ms/step - loss: 0.0027 - val_loss: 0.0095\n",
      "Epoch 35/100\n",
      "10/10 [==============================] - 0s 7ms/step - loss: 0.0028 - val_loss: 0.0100\n",
      "Epoch 36/100\n",
      "10/10 [==============================] - 0s 9ms/step - loss: 0.0021 - val_loss: 0.0092\n",
      "Epoch 37/100\n",
      "10/10 [==============================] - 0s 9ms/step - loss: 0.0022 - val_loss: 0.0083\n",
      "Epoch 38/100\n",
      "10/10 [==============================] - 0s 9ms/step - loss: 0.0023 - val_loss: 0.0078\n",
      "Epoch 39/100\n",
      "10/10 [==============================] - 0s 9ms/step - loss: 0.0020 - val_loss: 0.0074\n",
      "Epoch 40/100\n",
      "10/10 [==============================] - 0s 7ms/step - loss: 0.0020 - val_loss: 0.0074\n",
      "Epoch 41/100\n",
      "10/10 [==============================] - 0s 8ms/step - loss: 0.0021 - val_loss: 0.0062\n",
      "Epoch 42/100\n",
      "10/10 [==============================] - 0s 8ms/step - loss: 0.0021 - val_loss: 0.0060\n",
      "Epoch 43/100\n",
      "10/10 [==============================] - 0s 7ms/step - loss: 0.0023 - val_loss: 0.0058\n",
      "Epoch 44/100\n",
      "10/10 [==============================] - 0s 9ms/step - loss: 0.0017 - val_loss: 0.0061\n",
      "Epoch 45/100\n",
      "10/10 [==============================] - 0s 8ms/step - loss: 0.0021 - val_loss: 0.0047\n",
      "Epoch 46/100\n",
      "10/10 [==============================] - 0s 9ms/step - loss: 0.0018 - val_loss: 0.0060\n",
      "Epoch 47/100\n",
      "10/10 [==============================] - 0s 7ms/step - loss: 0.0019 - val_loss: 0.0047\n",
      "Epoch 48/100\n",
      "10/10 [==============================] - 0s 7ms/step - loss: 0.0022 - val_loss: 0.0051\n",
      "Epoch 49/100\n",
      "10/10 [==============================] - 0s 8ms/step - loss: 0.0018 - val_loss: 0.0048\n",
      "Epoch 50/100\n",
      "10/10 [==============================] - 0s 8ms/step - loss: 0.0021 - val_loss: 0.0047\n",
      "Epoch 51/100\n",
      "10/10 [==============================] - 0s 8ms/step - loss: 0.0017 - val_loss: 0.0046\n",
      "Epoch 52/100\n",
      "10/10 [==============================] - 0s 8ms/step - loss: 0.0024 - val_loss: 0.0038\n",
      "Epoch 53/100\n",
      "10/10 [==============================] - 0s 8ms/step - loss: 0.0018 - val_loss: 0.0046\n",
      "Epoch 54/100\n",
      "10/10 [==============================] - 0s 8ms/step - loss: 0.0018 - val_loss: 0.0040\n",
      "Epoch 55/100\n",
      "10/10 [==============================] - 0s 7ms/step - loss: 0.0017 - val_loss: 0.0040\n",
      "Epoch 56/100\n",
      "10/10 [==============================] - 0s 7ms/step - loss: 0.0016 - val_loss: 0.0042\n",
      "Epoch 57/100\n",
      "10/10 [==============================] - 0s 8ms/step - loss: 0.0018 - val_loss: 0.0035\n",
      "Epoch 58/100\n",
      "10/10 [==============================] - 0s 6ms/step - loss: 0.0017 - val_loss: 0.0038\n",
      "Epoch 59/100\n",
      "10/10 [==============================] - 0s 8ms/step - loss: 0.0020 - val_loss: 0.0031\n",
      "Epoch 60/100\n",
      "10/10 [==============================] - 0s 8ms/step - loss: 0.0021 - val_loss: 0.0035\n",
      "Epoch 61/100\n",
      "10/10 [==============================] - 0s 8ms/step - loss: 0.0016 - val_loss: 0.0033\n",
      "Epoch 62/100\n",
      "10/10 [==============================] - 0s 8ms/step - loss: 0.0019 - val_loss: 0.0032\n",
      "Epoch 63/100\n",
      "10/10 [==============================] - 0s 8ms/step - loss: 0.0017 - val_loss: 0.0035\n",
      "Epoch 64/100\n",
      "10/10 [==============================] - 0s 7ms/step - loss: 0.0017 - val_loss: 0.0029\n",
      "Epoch 65/100\n",
      "10/10 [==============================] - 0s 9ms/step - loss: 0.0019 - val_loss: 0.0037\n",
      "Epoch 66/100\n",
      "10/10 [==============================] - 0s 9ms/step - loss: 0.0018 - val_loss: 0.0028\n",
      "Epoch 67/100\n",
      "10/10 [==============================] - 0s 8ms/step - loss: 0.0016 - val_loss: 0.0032\n",
      "Epoch 68/100\n",
      "10/10 [==============================] - 0s 7ms/step - loss: 0.0015 - val_loss: 0.0031\n",
      "Epoch 69/100\n",
      "10/10 [==============================] - 0s 7ms/step - loss: 0.0016 - val_loss: 0.0031\n",
      "Epoch 70/100\n",
      "10/10 [==============================] - 0s 8ms/step - loss: 0.0017 - val_loss: 0.0026\n",
      "Epoch 71/100\n",
      "10/10 [==============================] - 0s 9ms/step - loss: 0.0019 - val_loss: 0.0031\n",
      "Epoch 72/100\n",
      "10/10 [==============================] - 0s 8ms/step - loss: 0.0018 - val_loss: 0.0026\n",
      "Epoch 73/100\n",
      "10/10 [==============================] - 0s 8ms/step - loss: 0.0016 - val_loss: 0.0028\n",
      "Epoch 74/100\n",
      "10/10 [==============================] - 0s 8ms/step - loss: 0.0015 - val_loss: 0.0027\n",
      "Epoch 75/100\n",
      "10/10 [==============================] - 0s 7ms/step - loss: 0.0016 - val_loss: 0.0032\n",
      "Epoch 76/100\n",
      "10/10 [==============================] - 0s 8ms/step - loss: 0.0017 - val_loss: 0.0026\n",
      "Epoch 77/100\n",
      "10/10 [==============================] - 0s 8ms/step - loss: 0.0015 - val_loss: 0.0025\n",
      "Epoch 78/100\n",
      "10/10 [==============================] - 0s 7ms/step - loss: 0.0015 - val_loss: 0.0026\n",
      "Epoch 79/100\n",
      "10/10 [==============================] - 0s 9ms/step - loss: 0.0017 - val_loss: 0.0025\n",
      "Epoch 80/100\n",
      "10/10 [==============================] - 0s 9ms/step - loss: 0.0019 - val_loss: 0.0025\n",
      "Epoch 81/100\n",
      "10/10 [==============================] - 0s 9ms/step - loss: 0.0014 - val_loss: 0.0024\n",
      "Epoch 82/100\n",
      "10/10 [==============================] - 0s 9ms/step - loss: 0.0014 - val_loss: 0.0028\n",
      "Epoch 83/100\n",
      "10/10 [==============================] - 0s 7ms/step - loss: 0.0017 - val_loss: 0.0024\n",
      "Epoch 84/100\n",
      "10/10 [==============================] - 0s 8ms/step - loss: 0.0018 - val_loss: 0.0027\n",
      "Epoch 85/100\n",
      "10/10 [==============================] - 0s 6ms/step - loss: 0.0013 - val_loss: 0.0023\n",
      "Epoch 86/100\n",
      "10/10 [==============================] - 0s 7ms/step - loss: 0.0015 - val_loss: 0.0024\n",
      "Epoch 87/100\n",
      "10/10 [==============================] - 0s 8ms/step - loss: 0.0014 - val_loss: 0.0024\n",
      "Epoch 88/100\n",
      "10/10 [==============================] - 0s 9ms/step - loss: 0.0018 - val_loss: 0.0022\n",
      "Epoch 89/100\n",
      "10/10 [==============================] - 0s 9ms/step - loss: 0.0016 - val_loss: 0.0025\n",
      "Epoch 90/100\n",
      "10/10 [==============================] - 0s 8ms/step - loss: 0.0014 - val_loss: 0.0022\n",
      "Epoch 91/100\n",
      "10/10 [==============================] - 0s 8ms/step - loss: 0.0015 - val_loss: 0.0022\n",
      "Epoch 92/100\n",
      "10/10 [==============================] - 0s 8ms/step - loss: 0.0014 - val_loss: 0.0025\n",
      "Epoch 93/100\n",
      "10/10 [==============================] - 0s 8ms/step - loss: 0.0014 - val_loss: 0.0021\n",
      "Epoch 94/100\n",
      "10/10 [==============================] - 0s 7ms/step - loss: 0.0016 - val_loss: 0.0022\n",
      "Epoch 95/100\n",
      "10/10 [==============================] - 0s 8ms/step - loss: 0.0013 - val_loss: 0.0027\n",
      "Epoch 96/100\n",
      "10/10 [==============================] - 0s 8ms/step - loss: 0.0014 - val_loss: 0.0021\n",
      "Epoch 97/100\n",
      "10/10 [==============================] - 0s 9ms/step - loss: 0.0015 - val_loss: 0.0020\n",
      "Epoch 98/100\n",
      "10/10 [==============================] - 0s 8ms/step - loss: 0.0014 - val_loss: 0.0020\n",
      "Epoch 99/100\n",
      "10/10 [==============================] - 0s 7ms/step - loss: 0.0014 - val_loss: 0.0021\n",
      "Epoch 100/100\n",
      "10/10 [==============================] - 0s 7ms/step - loss: 0.0013 - val_loss: 0.0020\n"
     ]
    }
   ],
   "source": [
    "\n",
    "history=model.fit(reshaped_trainX, trainY, validation_data=(reshaped_testX,testY),verbose = 1, epochs=100, batch_size=50,)\n",
    "#history = model.fit(reshaped_trainX, trainY, validation_data=(reshaped_testX, testY),verbose=2, epochs=100)"
   ]
  },
  {
   "cell_type": "code",
   "execution_count": 11,
   "id": "assumed-shell",
   "metadata": {},
   "outputs": [
    {
     "data": {
      "image/png": "[encoded data removed]",
      "text/plain": [
       "<Figure size 432x288 with 1 Axes>"
      ]
     },
     "metadata": {
      "needs_background": "light"
     },
     "output_type": "display_data"
    }
   ],
   "source": [
    "loss_history = (history.history['val_loss'])\n",
    "fig, axes = plt.subplots()\n",
    "axes.plot(loss_history)  \n",
    "axes.set_xlabel(\"epochs\")\n",
    "axes.set_ylabel(\"LOSS\")\n",
    "plt.show()\n",
    "fig.savefig('LOSS.png',transparent=True)"
   ]
  },
  {
   "cell_type": "code",
   "execution_count": 12,
   "id": "final-crystal",
   "metadata": {},
   "outputs": [],
   "source": [
    "# make predictions\n",
    "\n",
    "trainPredict = model.predict(reshaped_trainX)\n",
    "testPredict = model.predict(reshaped_testX)\n",
    "\n",
    "# invert predictions back to prescaled values\n",
    "#This is to compare with original input values\n",
    "#SInce we used minmaxscaler we can now use scaler.inverse_transform\n",
    "#to invert the transformation.\n",
    "trainPredict = scale.inverse_transform(trainPredict)\n",
    "trainY = scale.inverse_transform([trainY])\n",
    "testPredict = scale.inverse_transform(testPredict)\n",
    "testY = scale.inverse_transform([testY])"
   ]
  },
  {
   "cell_type": "code",
   "execution_count": 13,
   "id": "macro-brief",
   "metadata": {},
   "outputs": [
    {
     "name": "stdout",
     "output_type": "stream",
     "text": [
      "Train Score: 0.00 RMSE\n",
      "Test Score: 0.00 RMSE\n"
     ]
    },
    {
     "ename": "ValueError",
     "evalue": "could not broadcast input array from shape (496,32) into shape (496,1)",
     "output_type": "error",
     "traceback": [
      "\u001b[1;31m---------------------------------------------------------------------------\u001b[0m",
      "\u001b[1;31mValueError\u001b[0m                                Traceback (most recent call last)",
      "\u001b[1;32m<ipython-input-13-30b335accc6d>\u001b[0m in \u001b[0;36m<module>\u001b[1;34m\u001b[0m\n\u001b[0;32m     10\u001b[0m \u001b[0mtrainPredictPlot\u001b[0m \u001b[1;33m=\u001b[0m \u001b[0mnp\u001b[0m\u001b[1;33m.\u001b[0m\u001b[0mempty_like\u001b[0m\u001b[1;33m(\u001b[0m\u001b[0mdataset_array\u001b[0m\u001b[1;33m)\u001b[0m\u001b[1;33m\u001b[0m\u001b[1;33m\u001b[0m\u001b[0m\n\u001b[0;32m     11\u001b[0m \u001b[0mtrainPredictPlot\u001b[0m\u001b[1;33m[\u001b[0m\u001b[1;33m:\u001b[0m\u001b[1;33m,\u001b[0m \u001b[1;33m:\u001b[0m\u001b[1;33m]\u001b[0m \u001b[1;33m=\u001b[0m \u001b[0mnp\u001b[0m\u001b[1;33m.\u001b[0m\u001b[0mnan\u001b[0m\u001b[1;33m\u001b[0m\u001b[1;33m\u001b[0m\u001b[0m\n\u001b[1;32m---> 12\u001b[1;33m \u001b[0mtrainPredictPlot\u001b[0m\u001b[1;33m[\u001b[0m\u001b[0mseq_size\u001b[0m\u001b[1;33m:\u001b[0m\u001b[0mlen\u001b[0m\u001b[1;33m(\u001b[0m\u001b[0mtrainPredict\u001b[0m\u001b[1;33m)\u001b[0m\u001b[1;33m+\u001b[0m\u001b[0mseq_size\u001b[0m\u001b[1;33m,\u001b[0m \u001b[1;33m:\u001b[0m\u001b[1;33m]\u001b[0m \u001b[1;33m=\u001b[0m \u001b[0mtrainPredict\u001b[0m\u001b[1;33m\u001b[0m\u001b[1;33m\u001b[0m\u001b[0m\n\u001b[0m\u001b[0;32m     13\u001b[0m \u001b[1;33m\u001b[0m\u001b[0m\n\u001b[0;32m     14\u001b[0m \u001b[1;31m# shift test predictions for plotting\u001b[0m\u001b[1;33m\u001b[0m\u001b[1;33m\u001b[0m\u001b[1;33m\u001b[0m\u001b[0m\n",
      "\u001b[1;31mValueError\u001b[0m: could not broadcast input array from shape (496,32) into shape (496,1)"
     ]
    }
   ],
   "source": [
    "# calculate root mean squared error\n",
    "trainScore = math.sqrt(mean_squared_error(trainY[0], trainPredict[:,0]))\n",
    "print('Train Score: %.2f RMSE' % (trainScore))\n",
    "\n",
    "testScore = math.sqrt(mean_squared_error(testY[0], testPredict[:,0]))\n",
    "print('Test Score: %.2f RMSE' % (testScore))\n",
    "\n",
    "# shift train predictions for plotting\n",
    "#we must shift the predictions so that they align on the x-axis with the original dataset. \n",
    "trainPredictPlot = np.empty_like(dataset_array)\n",
    "trainPredictPlot[:, :] = np.nan\n",
    "trainPredictPlot[seq_size:len(trainPredict)+seq_size, :] = trainPredict\n",
    "\n",
    "# shift test predictions for plotting\n",
    "testPredictPlot = np.empty_like(dataset_array)\n",
    "testPredictPlot[:, :] = np.nan\n",
    "testPredictPlot[len(trainPredict)+(seq_size*2)+1:len(dataset_array)-1, :] = testPredict\n",
    "\n",
    "# plot baseline and predictions\n",
    "plt.plot(scale.inverse_transform(dataset_array))\n",
    "plt.plot(trainPredictPlot)\n",
    "plt.plot(testPredictPlot)\n",
    "plt.show()"
   ]
  },
  {
   "cell_type": "code",
   "execution_count": null,
   "id": "cooperative-excerpt",
   "metadata": {},
   "outputs": [],
   "source": []
  }
 ],
 "metadata": {
  "kernelspec": {
   "display_name": "Python 3",
   "language": "python",
   "name": "python3"
  },
  "language_info": {
   "codemirror_mode": {
    "name": "ipython",
    "version": 3
   },
   "file_extension": ".py",
   "mimetype": "text/x-python",
   "name": "python",
   "nbconvert_exporter": "python",
   "pygments_lexer": "ipython3",
   "version": "3.8.8"
  }
 },
 "nbformat": 4,
 "nbformat_minor": 5
}
